{
  "nbformat": 4,
  "nbformat_minor": 0,
  "metadata": {
    "colab": {
      "provenance": [],
      "authorship_tag": "ABX9TyPdT/AbxcRoT2Tm8Cg68aEd",
      "include_colab_link": true
    },
    "kernelspec": {
      "name": "python3",
      "display_name": "Python 3"
    },
    "language_info": {
      "name": "python"
    }
  },
  "cells": [
    {
      "cell_type": "markdown",
      "metadata": {
        "id": "view-in-github",
        "colab_type": "text"
      },
      "source": [
        "<a href=\"https://colab.research.google.com/github/sravyamullapudi26/code_alpha_data_SCience/blob/main/Sales_Prediction.ipynb\" target=\"_parent\"><img src=\"https://colab.research.google.com/assets/colab-badge.svg\" alt=\"Open In Colab\"/></a>"
      ]
    },
    {
      "cell_type": "code",
      "execution_count": null,
      "metadata": {
        "id": "I9e9icFgW4NL"
      },
      "outputs": [],
      "source": [
        "# Import required libraries\n",
        "import pandas as pd\n",
        "import numpy as np\n",
        "import matplotlib.pyplot as plt\n",
        "import seaborn as sns\n",
        "\n",
        "from sklearn.model_selection import train_test_split\n",
        "from sklearn.linear_model import LinearRegression\n",
        "from sklearn.metrics import r2_score, mean_squared_error\n",
        "import joblib\n"
      ]
    },
    {
      "cell_type": "code",
      "source": [
        "# Load dataset\n",
        "df = pd.read_csv('/content/Advertising.csv')\n",
        "\n",
        "# Display the first 5 rows of the dataset\n",
        "print(\"Dataset Preview:\")\n",
        "print(df.head())\n",
        "\n",
        "# Get dataset information\n",
        "print(\"\\nDataset Info:\")\n",
        "print(df.info())\n",
        "\n",
        "# Check for missing values\n",
        "print(\"\\nMissing Values:\")\n",
        "print(df.isnull().sum())\n",
        "\n",
        "# Summary statistics\n",
        "print(\"\\nStatistical Summary:\")\n",
        "print(df.describe())\n"
      ],
      "metadata": {
        "colab": {
          "base_uri": "https://localhost:8080/"
        },
        "id": "Otr52cEBXILp",
        "outputId": "82b56407-06bf-4785-d7c7-86b9deb747f3"
      },
      "execution_count": null,
      "outputs": [
        {
          "output_type": "stream",
          "name": "stdout",
          "text": [
            "Dataset Preview:\n",
            "   Unnamed: 0     TV  Radio  Newspaper  Sales\n",
            "0           1  230.1   37.8       69.2   22.1\n",
            "1           2   44.5   39.3       45.1   10.4\n",
            "2           3   17.2   45.9       69.3    9.3\n",
            "3           4  151.5   41.3       58.5   18.5\n",
            "4           5  180.8   10.8       58.4   12.9\n",
            "\n",
            "Dataset Info:\n",
            "<class 'pandas.core.frame.DataFrame'>\n",
            "RangeIndex: 200 entries, 0 to 199\n",
            "Data columns (total 5 columns):\n",
            " #   Column      Non-Null Count  Dtype  \n",
            "---  ------      --------------  -----  \n",
            " 0   Unnamed: 0  200 non-null    int64  \n",
            " 1   TV          200 non-null    float64\n",
            " 2   Radio       200 non-null    float64\n",
            " 3   Newspaper   200 non-null    float64\n",
            " 4   Sales       200 non-null    float64\n",
            "dtypes: float64(4), int64(1)\n",
            "memory usage: 7.9 KB\n",
            "None\n",
            "\n",
            "Missing Values:\n",
            "Unnamed: 0    0\n",
            "TV            0\n",
            "Radio         0\n",
            "Newspaper     0\n",
            "Sales         0\n",
            "dtype: int64\n",
            "\n",
            "Statistical Summary:\n",
            "       Unnamed: 0          TV       Radio   Newspaper       Sales\n",
            "count  200.000000  200.000000  200.000000  200.000000  200.000000\n",
            "mean   100.500000  147.042500   23.264000   30.554000   14.022500\n",
            "std     57.879185   85.854236   14.846809   21.778621    5.217457\n",
            "min      1.000000    0.700000    0.000000    0.300000    1.600000\n",
            "25%     50.750000   74.375000    9.975000   12.750000   10.375000\n",
            "50%    100.500000  149.750000   22.900000   25.750000   12.900000\n",
            "75%    150.250000  218.825000   36.525000   45.100000   17.400000\n",
            "max    200.000000  296.400000   49.600000  114.000000   27.000000\n"
          ]
        }
      ]
    },
    {
      "cell_type": "code",
      "source": [
        "# Encode categorical columns using one-hot encoding\n",
        "df_encoded = pd.get_dummies(df, drop_first=True)\n",
        "\n",
        "# Define Features (X) and Target (y)\n",
        "X = df_encoded.drop('Sales', axis=1)  # Features (independent variables)\n",
        "y = df_encoded['Sales']  # Target (dependent variable)\n",
        "\n",
        "# Display updated features\n",
        "print(\"\\nUpdated Features:\")\n",
        "print(X.head())\n"
      ],
      "metadata": {
        "colab": {
          "base_uri": "https://localhost:8080/"
        },
        "id": "Ni4IzL_wXYiB",
        "outputId": "3f8309d5-da02-4f09-bc72-2be6b2b646e9"
      },
      "execution_count": null,
      "outputs": [
        {
          "output_type": "stream",
          "name": "stdout",
          "text": [
            "\n",
            "Updated Features:\n",
            "   Unnamed: 0     TV  Radio  Newspaper\n",
            "0           1  230.1   37.8       69.2\n",
            "1           2   44.5   39.3       45.1\n",
            "2           3   17.2   45.9       69.3\n",
            "3           4  151.5   41.3       58.5\n",
            "4           5  180.8   10.8       58.4\n"
          ]
        }
      ]
    },
    {
      "cell_type": "code",
      "source": [
        "# Split the dataset into training and testing sets (80% train, 20% test)\n",
        "X_train, X_test, y_train, y_test = train_test_split(X, y, test_size=0.2, random_state=42)\n",
        "\n",
        "print(\"\\nTraining Set Shape:\", X_train.shape)\n",
        "print(\"Testing Set Shape:\", X_test.shape)\n"
      ],
      "metadata": {
        "colab": {
          "base_uri": "https://localhost:8080/"
        },
        "id": "cq9VNXReXcVz",
        "outputId": "1b351a14-5e05-4983-d8f2-b349eba0fac0"
      },
      "execution_count": null,
      "outputs": [
        {
          "output_type": "stream",
          "name": "stdout",
          "text": [
            "\n",
            "Training Set Shape: (160, 4)\n",
            "Testing Set Shape: (40, 4)\n"
          ]
        }
      ]
    },
    {
      "cell_type": "code",
      "source": [
        "# Train the Linear Regression model\n",
        "model = LinearRegression()\n",
        "model.fit(X_train, y_train)\n",
        "\n",
        "# Predict on test data\n",
        "y_pred = model.predict(X_test)\n",
        "\n",
        "# Evaluate the model\n",
        "r2 = r2_score(y_test, y_pred)\n",
        "mse = mean_squared_error(y_test, y_pred)\n",
        "\n",
        "print(\"\\nModel Performance:\")\n",
        "print(f\"R2 Score: {r2:.2f}\")\n",
        "print(f\"Mean Squared Error: {mse:.2f}\")\n"
      ],
      "metadata": {
        "colab": {
          "base_uri": "https://localhost:8080/"
        },
        "id": "YAsGTjukXgGR",
        "outputId": "ff5c34db-f4f9-435d-d4dd-cda8296243a1"
      },
      "execution_count": null,
      "outputs": [
        {
          "output_type": "stream",
          "name": "stdout",
          "text": [
            "\n",
            "Model Performance:\n",
            "R2 Score: 0.90\n",
            "Mean Squared Error: 3.20\n"
          ]
        }
      ]
    },
    {
      "cell_type": "code",
      "source": [
        "# Plot Actual vs Predicted Sales\n",
        "plt.figure(figsize=(8, 6))\n",
        "plt.scatter(y_test, y_pred, color='blue')\n",
        "plt.plot([y.min(), y.max()], [y.min(), y.max()], color='red', linestyle='--')  # Reference line\n",
        "plt.xlabel(\"Actual Sales\")\n",
        "plt.ylabel(\"Predicted Sales\")\n",
        "plt.title(\"Actual vs Predicted Sales\")\n",
        "plt.show()\n"
      ],
      "metadata": {
        "colab": {
          "base_uri": "https://localhost:8080/",
          "height": 564
        },
        "id": "2l0JJBYNXoCf",
        "outputId": "f80f3c31-2a84-4f78-f642-dd8ec2efaf54"
      },
      "execution_count": null,
      "outputs": [
        {
          "output_type": "display_data",
          "data": {
            "text/plain": [
              "<Figure size 800x600 with 1 Axes>"
            ],
            "image/png": "[encoded data removed]"
          },
          "metadata": {}
        }
      ]
    },
    {
      "cell_type": "code",
      "source": [
        "# Save the model to a file\n",
        "joblib.dump(model, 'sales_prediction_model.pkl')\n",
        "print(\"\\nModel saved as 'sales_prediction_model.pkl'\")\n"
      ],
      "metadata": {
        "colab": {
          "base_uri": "https://localhost:8080/"
        },
        "id": "4U6B9tijXvkJ",
        "outputId": "34697a24-2098-4387-cfa5-0bdd76bd7567"
      },
      "execution_count": null,
      "outputs": [
        {
          "output_type": "stream",
          "name": "stdout",
          "text": [
            "\n",
            "Model saved as 'sales_prediction_model.pkl'\n"
          ]
        }
      ]
    },
    {
      "cell_type": "code",
      "source": [
        "# Load the saved model\n",
        "loaded_model = joblib.load('sales_prediction_model.pkl')\n",
        "\n",
        "# Example test input (replace values as needed)\n",
        "test_input = pd.DataFrame([[2500, 1, 0, 0]], columns=X.columns)\n",
        "\n",
        "# Predict sales for the test input\n",
        "predicted_sales = loaded_model.predict(test_input)\n",
        "print(\"\\nPredicted Sales for Test Input:\", predicted_sales[0])\n"
      ],
      "metadata": {
        "colab": {
          "base_uri": "https://localhost:8080/"
        },
        "id": "u5DSYRl2Xxkt",
        "outputId": "060a452d-2922-48c0-b887-3e8cd21bf536"
      },
      "execution_count": null,
      "outputs": [
        {
          "output_type": "stream",
          "name": "stdout",
          "text": [
            "\n",
            "Predicted Sales for Test Input: 4.56022053913961\n"
          ]
        }
      ]
    }
  ]
}